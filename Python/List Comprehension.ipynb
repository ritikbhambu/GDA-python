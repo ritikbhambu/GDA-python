{
 "cells": [
  {
   "cell_type": "code",
   "execution_count": null,
   "id": "0cba7bfd",
   "metadata": {},
   "outputs": [],
   "source": [
    "''' different ways for list comprehension\n",
    "\n",
    "1.[ element for element in iterable]\n",
    "\n",
    "2.[ element for element in iterable if condition]\n",
    "\n",
    "3. nested list comprehension\n",
    "\n",
    "'''"
   ]
  },
  {
   "cell_type": "code",
   "execution_count": 1,
   "id": "b5b2a75a-22b0-4df9-a54f-ef06e0ce4c75",
   "metadata": {},
   "outputs": [],
   "source": [
    "l1 = [1,2,3,4,5,6,7,8,9,10]"
   ]
  },
  {
   "cell_type": "code",
   "execution_count": 3,
   "id": "1cea0dee-3866-4e1a-be80-b71bdd3188cb",
   "metadata": {},
   "outputs": [],
   "source": [
    "l2 = []\n",
    "\n",
    "for num in range(1,51):\n",
    "    l2.append(num)"
   ]
  },
  {
   "cell_type": "code",
   "execution_count": 5,
   "id": "a188f2f3-e3b8-4844-9e03-9878144afcaf",
   "metadata": {},
   "outputs": [
    {
     "data": {
      "text/plain": [
       "[1,\n",
       " 2,\n",
       " 3,\n",
       " 4,\n",
       " 5,\n",
       " 6,\n",
       " 7,\n",
       " 8,\n",
       " 9,\n",
       " 10,\n",
       " 11,\n",
       " 12,\n",
       " 13,\n",
       " 14,\n",
       " 15,\n",
       " 16,\n",
       " 17,\n",
       " 18,\n",
       " 19,\n",
       " 20,\n",
       " 21,\n",
       " 22,\n",
       " 23,\n",
       " 24,\n",
       " 25,\n",
       " 26,\n",
       " 27,\n",
       " 28,\n",
       " 29,\n",
       " 30,\n",
       " 31,\n",
       " 32,\n",
       " 33,\n",
       " 34,\n",
       " 35,\n",
       " 36,\n",
       " 37,\n",
       " 38,\n",
       " 39,\n",
       " 40,\n",
       " 41,\n",
       " 42,\n",
       " 43,\n",
       " 44,\n",
       " 45,\n",
       " 46,\n",
       " 47,\n",
       " 48,\n",
       " 49,\n",
       " 50]"
      ]
     },
     "execution_count": 5,
     "metadata": {},
     "output_type": "execute_result"
    }
   ],
   "source": [
    "l2"
   ]
  },
  {
   "cell_type": "code",
   "execution_count": 7,
   "id": "b1655052-53df-4544-a06a-8eaf3db92783",
   "metadata": {},
   "outputs": [
    {
     "data": {
      "text/plain": [
       "[1,\n",
       " 2,\n",
       " 3,\n",
       " 4,\n",
       " 5,\n",
       " 6,\n",
       " 7,\n",
       " 8,\n",
       " 9,\n",
       " 10,\n",
       " 11,\n",
       " 12,\n",
       " 13,\n",
       " 14,\n",
       " 15,\n",
       " 16,\n",
       " 17,\n",
       " 18,\n",
       " 19,\n",
       " 20,\n",
       " 21,\n",
       " 22,\n",
       " 23,\n",
       " 24,\n",
       " 25,\n",
       " 26,\n",
       " 27,\n",
       " 28,\n",
       " 29,\n",
       " 30,\n",
       " 31,\n",
       " 32,\n",
       " 33,\n",
       " 34,\n",
       " 35,\n",
       " 36,\n",
       " 37,\n",
       " 38,\n",
       " 39,\n",
       " 40,\n",
       " 41,\n",
       " 42,\n",
       " 43,\n",
       " 44,\n",
       " 45,\n",
       " 46,\n",
       " 47,\n",
       " 48,\n",
       " 49,\n",
       " 50]"
      ]
     },
     "execution_count": 7,
     "metadata": {},
     "output_type": "execute_result"
    }
   ],
   "source": [
    "l3 = [ element for element in range(1,51)]\n",
    "l3"
   ]
  },
  {
   "cell_type": "code",
   "execution_count": 9,
   "id": "84b332ad-10f5-4362-b8ec-dbbd0f5dfb6d",
   "metadata": {},
   "outputs": [],
   "source": [
    "l4 = [ ch for ch in \"mayank\"]"
   ]
  },
  {
   "cell_type": "code",
   "execution_count": 11,
   "id": "c4b1fa24-ad7a-41d8-80a6-b552bebf2164",
   "metadata": {},
   "outputs": [
    {
     "data": {
      "text/plain": [
       "['m', 'a', 'y', 'a', 'n', 'k']"
      ]
     },
     "execution_count": 11,
     "metadata": {},
     "output_type": "execute_result"
    }
   ],
   "source": [
    "l4"
   ]
  },
  {
   "cell_type": "code",
   "execution_count": 13,
   "id": "ff2e941c-1da7-44e8-b611-7af88dc661d3",
   "metadata": {},
   "outputs": [
    {
     "data": {
      "text/plain": [
       "['m', 'y', 'n', 'k']"
      ]
     },
     "execution_count": 13,
     "metadata": {},
     "output_type": "execute_result"
    }
   ],
   "source": [
    "l5 = [ ch for ch in \"mayank\" if ch not in \"aeiou\"]\n",
    "l5"
   ]
  },
  {
   "cell_type": "code",
   "execution_count": 15,
   "id": "17be7fa0-3c1e-4443-b089-db3578c9df4a",
   "metadata": {},
   "outputs": [
    {
     "data": {
      "text/plain": [
       "[0,\n",
       " 2,\n",
       " 4,\n",
       " 6,\n",
       " 8,\n",
       " 10,\n",
       " 12,\n",
       " 14,\n",
       " 16,\n",
       " 18,\n",
       " 20,\n",
       " 22,\n",
       " 24,\n",
       " 26,\n",
       " 28,\n",
       " 30,\n",
       " 32,\n",
       " 34,\n",
       " 36,\n",
       " 38,\n",
       " 40,\n",
       " 42,\n",
       " 44,\n",
       " 46,\n",
       " 48]"
      ]
     },
     "execution_count": 15,
     "metadata": {},
     "output_type": "execute_result"
    }
   ],
   "source": [
    "l6 = [ num for num in range(0,50) if num%2 ==0 ]\n",
    "l6"
   ]
  },
  {
   "cell_type": "code",
   "execution_count": 27,
   "id": "e630b74f-7c8d-4768-a315-32d6048b44d2",
   "metadata": {},
   "outputs": [],
   "source": [
    "l7 = [ num if num% 2 == 0 else num +100 for num in range(1,10) ]"
   ]
  },
  {
   "cell_type": "code",
   "execution_count": 29,
   "id": "f27b6bdd-9145-4a36-ac2b-cb22f8bd8a1c",
   "metadata": {},
   "outputs": [
    {
     "data": {
      "text/plain": [
       "[101, 2, 103, 4, 105, 6, 107, 8, 109]"
      ]
     },
     "execution_count": 29,
     "metadata": {},
     "output_type": "execute_result"
    }
   ],
   "source": [
    "l7"
   ]
  },
  {
   "cell_type": "code",
   "execution_count": 31,
   "id": "7da3187d-868e-4751-adcf-92a0c4b7a7ae",
   "metadata": {},
   "outputs": [
    {
     "data": {
      "text/plain": [
       "['m', 'vowel', 'y', 'vowel', 'n', 'k']"
      ]
     },
     "execution_count": 31,
     "metadata": {},
     "output_type": "execute_result"
    }
   ],
   "source": [
    "l8 = [ ch if ch not in \"aeiou\" else \"vowel\" for ch in \"mayank\"]\n",
    "l8"
   ]
  },
  {
   "cell_type": "code",
   "execution_count": 33,
   "id": "0c2b7641-8f26-4795-9555-a028abaf0cdc",
   "metadata": {},
   "outputs": [],
   "source": [
    "nl1 = [[1,2], [3,4] ]"
   ]
  },
  {
   "cell_type": "code",
   "execution_count": 35,
   "id": "62fad763-a654-4162-a82a-a6120ad29b83",
   "metadata": {},
   "outputs": [
    {
     "data": {
      "text/plain": [
       "[[1, 2], [3, 4]]"
      ]
     },
     "execution_count": 35,
     "metadata": {},
     "output_type": "execute_result"
    }
   ],
   "source": [
    "nl1"
   ]
  },
  {
   "cell_type": "code",
   "execution_count": null,
   "id": "5c049b7c-79dc-42fd-9028-932327e68422",
   "metadata": {},
   "outputs": [],
   "source": []
  },
  {
   "cell_type": "code",
   "execution_count": 41,
   "id": "8ce122bd-6141-4550-86a9-18b6033645f6",
   "metadata": {},
   "outputs": [
    {
     "data": {
      "text/plain": [
       "[[0], [0, 2], [0, 2, 4], [0, 2, 4, 6]]"
      ]
     },
     "execution_count": 41,
     "metadata": {},
     "output_type": "execute_result"
    }
   ],
   "source": [
    "[ [ i*2 for i in range(num)  ]  for num in range(1,5)]"
   ]
  },
  {
   "cell_type": "code",
   "execution_count": 45,
   "id": "17c3ef6e-39aa-49fd-ad82-6557461fca0c",
   "metadata": {},
   "outputs": [
    {
     "data": {
      "text/plain": [
       "[['Element'], ['Element'], ['Element'], ['Element'], ['Element'], ['Element']]"
      ]
     },
     "execution_count": 45,
     "metadata": {},
     "output_type": "execute_result"
    }
   ],
   "source": [
    "[ [ \"Element\"] for ch in \"mayank\"]"
   ]
  },
  {
   "cell_type": "code",
   "execution_count": 47,
   "id": "d9c6f8f4-cb1f-455e-b766-b8fd64c87219",
   "metadata": {},
   "outputs": [
    {
     "ename": "SyntaxError",
     "evalue": "invalid syntax (1854972334.py, line 1)",
     "output_type": "error",
     "traceback": [
      "\u001b[0;36m  Cell \u001b[0;32mIn[47], line 1\u001b[0;36m\u001b[0m\n\u001b[0;31m    [ ch2 for ch2 in \"12\"  ] \"m\"\u001b[0m\n\u001b[0m                             ^\u001b[0m\n\u001b[0;31mSyntaxError\u001b[0m\u001b[0;31m:\u001b[0m invalid syntax\n"
     ]
    }
   ],
   "source": [
    "[ ch2 for ch2 in \"12\"  ] \"m\"\n",
    "\"a\"\n",
    "\"y\""
   ]
  },
  {
   "cell_type": "code",
   "execution_count": null,
   "id": "a0f86193-af54-4741-ab1e-2869aac6c154",
   "metadata": {},
   "outputs": [],
   "source": []
  },
  {
   "cell_type": "code",
   "execution_count": 57,
   "id": "13501284-2c9b-41b0-a09b-9cd3d8b2cf18",
   "metadata": {},
   "outputs": [
    {
     "data": {
      "text/plain": [
       "[10, 11]"
      ]
     },
     "execution_count": 57,
     "metadata": {},
     "output_type": "execute_result"
    }
   ],
   "source": [
    "[ num2 for num2 in range(10,12)]"
   ]
  },
  {
   "cell_type": "code",
   "execution_count": 65,
   "id": "b7a93786-69f9-4428-aa46-1176af647c75",
   "metadata": {},
   "outputs": [
    {
     "data": {
      "text/plain": [
       "[['Constant'], ['Constant']]"
      ]
     },
     "execution_count": 65,
     "metadata": {},
     "output_type": "execute_result"
    }
   ],
   "source": [
    "[   [ \"Constant\"] for num in range(1,3)]"
   ]
  },
  {
   "cell_type": "code",
   "execution_count": 67,
   "id": "0cd9b738-e42e-45be-a9e6-b8dc36ba5b00",
   "metadata": {},
   "outputs": [
    {
     "data": {
      "text/plain": [
       "['Constant', 'Constant']"
      ]
     },
     "execution_count": 67,
     "metadata": {},
     "output_type": "execute_result"
    }
   ],
   "source": [
    "[  \"Constant\" for num in range(1,3)]"
   ]
  },
  {
   "cell_type": "code",
   "execution_count": null,
   "id": "868d6b7c-55a6-4536-83ba-8dbd8b9bad27",
   "metadata": {},
   "outputs": [],
   "source": []
  }
 ],
 "metadata": {
  "kernelspec": {
   "display_name": "Python 3 (ipykernel)",
   "language": "python",
   "name": "python3"
  },
  "language_info": {
   "codemirror_mode": {
    "name": "ipython",
    "version": 3
   },
   "file_extension": ".py",
   "mimetype": "text/x-python",
   "name": "python",
   "nbconvert_exporter": "python",
   "pygments_lexer": "ipython3",
   "version": "3.11.5"
  }
 },
 "nbformat": 4,
 "nbformat_minor": 5
}
