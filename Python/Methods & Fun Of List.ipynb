{
 "cells": [
  {
   "cell_type": "code",
   "execution_count": 27,
   "id": "801cf919-6cf6-4fe0-b141-34bd0aa88560",
   "metadata": {},
   "outputs": [],
   "source": [
    "l1 = [1,2,3,4,5]"
   ]
  },
  {
   "cell_type": "code",
   "execution_count": 33,
   "id": "e8d9d735-fb52-4078-ae11-abffd66123c8",
   "metadata": {},
   "outputs": [],
   "source": [
    "listLen = 0\n",
    "for i in l1:\n",
    "    listLen= listLen+1"
   ]
  },
  {
   "cell_type": "code",
   "execution_count": 37,
   "id": "29c4ed91-b0df-455b-bfc1-309455494793",
   "metadata": {},
   "outputs": [
    {
     "data": {
      "text/plain": [
       "5"
      ]
     },
     "execution_count": 37,
     "metadata": {},
     "output_type": "execute_result"
    }
   ],
   "source": [
    "listLen"
   ]
  },
  {
   "cell_type": "code",
   "execution_count": null,
   "id": "558d95eb-a803-4878-910c-fe639b888259",
   "metadata": {},
   "outputs": [],
   "source": []
  },
  {
   "cell_type": "code",
   "execution_count": null,
   "id": "1cf33352-a782-4a3f-a227-564976c2e798",
   "metadata": {},
   "outputs": [],
   "source": []
  },
  {
   "cell_type": "markdown",
   "id": "d04d697d-dcd6-4905-b7ae-891938bae98a",
   "metadata": {},
   "source": [
    "# Functions"
   ]
  },
  {
   "cell_type": "markdown",
   "id": "964705d7-d226-4026-a9e7-b0a3940db84d",
   "metadata": {},
   "source": [
    "1. len ()\n",
    "2. max ()\n",
    "3. min()\n",
    "4. Sum()\n",
    "5. Sorted()\n",
    "6. any ()\n",
    "7. all ()"
   ]
  },
  {
   "cell_type": "code",
   "execution_count": 29,
   "id": "a172c43b-12af-4746-b81d-cb481173644d",
   "metadata": {},
   "outputs": [
    {
     "data": {
      "text/plain": [
       "5"
      ]
     },
     "execution_count": 29,
     "metadata": {},
     "output_type": "execute_result"
    }
   ],
   "source": [
    "len(l1)"
   ]
  },
  {
   "cell_type": "code",
   "execution_count": 31,
   "id": "08e5060d-19c0-4e58-a041-b559c31b121e",
   "metadata": {},
   "outputs": [
    {
     "data": {
      "text/plain": [
       "0"
      ]
     },
     "execution_count": 31,
     "metadata": {},
     "output_type": "execute_result"
    }
   ],
   "source": [
    "len([])"
   ]
  },
  {
   "cell_type": "code",
   "execution_count": 42,
   "id": "04ffd497-9e6c-46c6-9ea3-4563bdee3422",
   "metadata": {},
   "outputs": [
    {
     "data": {
      "text/plain": [
       "632153"
      ]
     },
     "execution_count": 42,
     "metadata": {},
     "output_type": "execute_result"
    }
   ],
   "source": [
    "l2 = [53,5316,21,5632,632153,61361]\n",
    "max(l2)"
   ]
  },
  {
   "cell_type": "code",
   "execution_count": 44,
   "id": "c25c2de7-2b8f-4a1d-be9b-ff390e27c9e3",
   "metadata": {},
   "outputs": [
    {
     "ename": "TypeError",
     "evalue": "'>' not supported between instances of 'int' and 'str'",
     "output_type": "error",
     "traceback": [
      "\u001b[0;31m---------------------------------------------------------------------------\u001b[0m",
      "\u001b[0;31mTypeError\u001b[0m                                 Traceback (most recent call last)",
      "Cell \u001b[0;32mIn[44], line 2\u001b[0m\n\u001b[1;32m      1\u001b[0m l3 \u001b[38;5;241m=\u001b[39m [ \u001b[38;5;124m\"\u001b[39m\u001b[38;5;124mabc\u001b[39m\u001b[38;5;124m\"\u001b[39m,\u001b[38;5;241m5\u001b[39m]\n\u001b[0;32m----> 2\u001b[0m \u001b[38;5;28mmax\u001b[39m(l3)\n",
      "\u001b[0;31mTypeError\u001b[0m: '>' not supported between instances of 'int' and 'str'"
     ]
    }
   ],
   "source": [
    "l3 = [ \"abc\",5]\n",
    "max(l3)"
   ]
  },
  {
   "cell_type": "code",
   "execution_count": 46,
   "id": "43a9f2fd-70e3-4ee3-850d-3bf0a0bde54a",
   "metadata": {},
   "outputs": [
    {
     "data": {
      "text/plain": [
       "'zbc'"
      ]
     },
     "execution_count": 46,
     "metadata": {},
     "output_type": "execute_result"
    }
   ],
   "source": [
    "max(['abc','zbc'])"
   ]
  },
  {
   "cell_type": "code",
   "execution_count": 48,
   "id": "c622dad7-19e2-442d-813a-8e16acafabc5",
   "metadata": {},
   "outputs": [
    {
     "data": {
      "text/plain": [
       "1"
      ]
     },
     "execution_count": 48,
     "metadata": {},
     "output_type": "execute_result"
    }
   ],
   "source": [
    "min(l1)"
   ]
  },
  {
   "cell_type": "code",
   "execution_count": 52,
   "id": "3a4d1f65-0eeb-4410-bdaf-a6e41cbbc55e",
   "metadata": {},
   "outputs": [
    {
     "data": {
      "text/plain": [
       "21"
      ]
     },
     "execution_count": 52,
     "metadata": {},
     "output_type": "execute_result"
    }
   ],
   "source": [
    "min(l2)"
   ]
  },
  {
   "cell_type": "code",
   "execution_count": 56,
   "id": "5e8557a7-9b9c-440a-8788-ef800eb33e08",
   "metadata": {},
   "outputs": [
    {
     "data": {
      "text/plain": [
       "'abc'"
      ]
     },
     "execution_count": 56,
     "metadata": {},
     "output_type": "execute_result"
    }
   ],
   "source": [
    "min(['abc','zbc'])"
   ]
  },
  {
   "cell_type": "code",
   "execution_count": 60,
   "id": "c0e7bc7d-c92a-4e09-a1de-22c013717f05",
   "metadata": {},
   "outputs": [
    {
     "data": {
      "text/plain": [
       "(15, 704536)"
      ]
     },
     "execution_count": 60,
     "metadata": {},
     "output_type": "execute_result"
    }
   ],
   "source": [
    "sum(l1),sum(l2)"
   ]
  },
  {
   "cell_type": "code",
   "execution_count": 62,
   "id": "0c12954b-277f-419e-9333-faf02101c66b",
   "metadata": {},
   "outputs": [
    {
     "ename": "TypeError",
     "evalue": "unsupported operand type(s) for +: 'int' and 'str'",
     "output_type": "error",
     "traceback": [
      "\u001b[0;31m---------------------------------------------------------------------------\u001b[0m",
      "\u001b[0;31mTypeError\u001b[0m                                 Traceback (most recent call last)",
      "Cell \u001b[0;32mIn[62], line 1\u001b[0m\n\u001b[0;32m----> 1\u001b[0m \u001b[38;5;28msum\u001b[39m(l3)\n",
      "\u001b[0;31mTypeError\u001b[0m: unsupported operand type(s) for +: 'int' and 'str'"
     ]
    }
   ],
   "source": [
    "sum(l3)"
   ]
  },
  {
   "cell_type": "code",
   "execution_count": 66,
   "id": "8d094ccb-b044-4e21-9d76-5363afd4879a",
   "metadata": {},
   "outputs": [
    {
     "ename": "TypeError",
     "evalue": "unsupported operand type(s) for +: 'int' and 'str'",
     "output_type": "error",
     "traceback": [
      "\u001b[0;31m---------------------------------------------------------------------------\u001b[0m",
      "\u001b[0;31mTypeError\u001b[0m                                 Traceback (most recent call last)",
      "Cell \u001b[0;32mIn[66], line 2\u001b[0m\n\u001b[1;32m      1\u001b[0m l4 \u001b[38;5;241m=\u001b[39m [\u001b[38;5;124m'\u001b[39m\u001b[38;5;124m3\u001b[39m\u001b[38;5;124m'\u001b[39m,\u001b[38;5;124m'\u001b[39m\u001b[38;5;124m4\u001b[39m\u001b[38;5;124m'\u001b[39m]\n\u001b[0;32m----> 2\u001b[0m \u001b[38;5;28msum\u001b[39m(l4)\n",
      "\u001b[0;31mTypeError\u001b[0m: unsupported operand type(s) for +: 'int' and 'str'"
     ]
    }
   ],
   "source": [
    "l4 = ['abc','def']\n",
    "sum(l4)"
   ]
  },
  {
   "cell_type": "code",
   "execution_count": 68,
   "id": "3b9d364c-4b1d-45a0-b309-78f31fef9d5d",
   "metadata": {},
   "outputs": [
    {
     "ename": "TypeError",
     "evalue": "unsupported operand type(s) for +: 'int' and 'str'",
     "output_type": "error",
     "traceback": [
      "\u001b[0;31m---------------------------------------------------------------------------\u001b[0m",
      "\u001b[0;31mTypeError\u001b[0m                                 Traceback (most recent call last)",
      "Cell \u001b[0;32mIn[68], line 4\u001b[0m\n\u001b[1;32m      1\u001b[0m ans \u001b[38;5;241m=\u001b[39m \u001b[38;5;241m0\u001b[39m\n\u001b[1;32m      3\u001b[0m \u001b[38;5;28;01mfor\u001b[39;00m i \u001b[38;5;129;01min\u001b[39;00m l4:\n\u001b[0;32m----> 4\u001b[0m     ans \u001b[38;5;241m=\u001b[39m ans \u001b[38;5;241m+\u001b[39m i\n",
      "\u001b[0;31mTypeError\u001b[0m: unsupported operand type(s) for +: 'int' and 'str'"
     ]
    }
   ],
   "source": [
    "ans = 0\n",
    "\n",
    "for i in l4:\n",
    "    ans = ans + i"
   ]
  },
  {
   "cell_type": "code",
   "execution_count": 74,
   "id": "8740cd89-005e-4d91-b225-0533db0afcc5",
   "metadata": {},
   "outputs": [
    {
     "data": {
      "text/plain": [
       "[21, 53, 5316, 5632, 61361, 632153]"
      ]
     },
     "execution_count": 74,
     "metadata": {},
     "output_type": "execute_result"
    }
   ],
   "source": [
    "sorted(l2)"
   ]
  },
  {
   "cell_type": "code",
   "execution_count": 76,
   "id": "0c8eca83-262d-4781-9e5d-aa99046491c7",
   "metadata": {},
   "outputs": [
    {
     "ename": "TypeError",
     "evalue": "'<' not supported between instances of 'int' and 'str'",
     "output_type": "error",
     "traceback": [
      "\u001b[0;31m---------------------------------------------------------------------------\u001b[0m",
      "\u001b[0;31mTypeError\u001b[0m                                 Traceback (most recent call last)",
      "Cell \u001b[0;32mIn[76], line 1\u001b[0m\n\u001b[0;32m----> 1\u001b[0m \u001b[38;5;28msorted\u001b[39m(l3)\n",
      "\u001b[0;31mTypeError\u001b[0m: '<' not supported between instances of 'int' and 'str'"
     ]
    }
   ],
   "source": [
    "sorted(l3)"
   ]
  },
  {
   "cell_type": "code",
   "execution_count": 78,
   "id": "1514d962-3280-4789-994d-2a3239d2ff7b",
   "metadata": {},
   "outputs": [
    {
     "data": {
      "text/plain": [
       "['3', '4']"
      ]
     },
     "execution_count": 78,
     "metadata": {},
     "output_type": "execute_result"
    }
   ],
   "source": [
    "sorted(l4)"
   ]
  },
  {
   "cell_type": "markdown",
   "id": "54065723-dab1-40ec-b16d-e913cb5a0e13",
   "metadata": {},
   "source": [
    "False - > [] , 0,0.0, None"
   ]
  },
  {
   "cell_type": "code",
   "execution_count": 96,
   "id": "a12e1e4e-6b70-4010-bbc8-946a23b45558",
   "metadata": {},
   "outputs": [],
   "source": [
    "l5 = [None,0,0.0,[],(),0j,'']"
   ]
  },
  {
   "cell_type": "code",
   "execution_count": null,
   "id": "0a620b9f-1323-4784-973a-e1e3d3edb2fb",
   "metadata": {},
   "outputs": [],
   "source": []
  },
  {
   "cell_type": "code",
   "execution_count": 98,
   "id": "a274991d-196a-464d-81cc-889be2903f73",
   "metadata": {},
   "outputs": [
    {
     "data": {
      "text/plain": [
       "False"
      ]
     },
     "execution_count": 98,
     "metadata": {},
     "output_type": "execute_result"
    }
   ],
   "source": [
    "any(l5)"
   ]
  },
  {
   "cell_type": "code",
   "execution_count": 105,
   "id": "ffc081d5-08e5-4c8f-abd1-c9c47f0f18e6",
   "metadata": {},
   "outputs": [
    {
     "data": {
      "text/plain": [
       "False"
      ]
     },
     "execution_count": 105,
     "metadata": {},
     "output_type": "execute_result"
    }
   ],
   "source": [
    "l6 = [1,1.5,\"abc\",[1],False]\n",
    "all(l6)"
   ]
  },
  {
   "cell_type": "code",
   "execution_count": null,
   "id": "3f29a5b5-cf5c-436c-989a-1c56d11fdd43",
   "metadata": {},
   "outputs": [],
   "source": []
  },
  {
   "cell_type": "code",
   "execution_count": 107,
   "id": "9e1d895e-ad9d-4ddc-9766-556a8eda182d",
   "metadata": {},
   "outputs": [
    {
     "data": {
      "text/plain": [
       "[1, 2, 3, 4, 5]"
      ]
     },
     "execution_count": 107,
     "metadata": {},
     "output_type": "execute_result"
    }
   ],
   "source": [
    "l1\n"
   ]
  },
  {
   "cell_type": "code",
   "execution_count": null,
   "id": "be14390f-d5eb-44bf-8969-6f482ed457e6",
   "metadata": {},
   "outputs": [],
   "source": []
  },
  {
   "cell_type": "code",
   "execution_count": null,
   "id": "09e91770-6139-4e4b-b70c-797343b0b1bf",
   "metadata": {},
   "outputs": [],
   "source": []
  },
  {
   "cell_type": "code",
   "execution_count": null,
   "id": "dd75b4e0-7909-43fe-9a76-1771a4081e7a",
   "metadata": {},
   "outputs": [],
   "source": []
  },
  {
   "cell_type": "markdown",
   "id": "c5a69495-1725-48eb-b4f4-d1e961ba3987",
   "metadata": {},
   "source": [
    "# Methods"
   ]
  },
  {
   "cell_type": "markdown",
   "id": "2bb25938-9b20-4f9a-9a55-aa2baff9b98f",
   "metadata": {},
   "source": [
    "1. append ()\n",
    "2. extend ()\n",
    "3. insert()\n",
    "4. index ()\n",
    "5. Count())\n",
    "6. remove()\n",
    "7. pop ()\n",
    "8. Clear())\n",
    "9. reverse ()\n",
    "10. sort()\n",
    "11. copy ()"
   ]
  },
  {
   "cell_type": "code",
   "execution_count": 112,
   "id": "e5227944-fafd-4630-94ee-f226c1c19eab",
   "metadata": {},
   "outputs": [
    {
     "data": {
      "text/plain": [
       "[1, 2, 3, 4, 5]"
      ]
     },
     "execution_count": 112,
     "metadata": {},
     "output_type": "execute_result"
    }
   ],
   "source": [
    "l1"
   ]
  },
  {
   "cell_type": "code",
   "execution_count": 116,
   "id": "54f77171-c5ec-4bee-80f7-89741871620e",
   "metadata": {},
   "outputs": [
    {
     "data": {
      "text/plain": [
       "[1, 2, 3, 4, 5, 6, 6]"
      ]
     },
     "execution_count": 116,
     "metadata": {},
     "output_type": "execute_result"
    }
   ],
   "source": [
    "l1.append(6)\n",
    "l1"
   ]
  },
  {
   "cell_type": "code",
   "execution_count": 120,
   "id": "d2a0c1b2-ad27-401c-a2f6-c66507df1be9",
   "metadata": {},
   "outputs": [
    {
     "data": {
      "text/plain": [
       "[53, 5316, 21, 5632, 632153, 61361]"
      ]
     },
     "execution_count": 120,
     "metadata": {},
     "output_type": "execute_result"
    }
   ],
   "source": [
    "l2"
   ]
  },
  {
   "cell_type": "code",
   "execution_count": 124,
   "id": "99948a2f-9bf5-4c94-9ec5-9c8e4b392c85",
   "metadata": {},
   "outputs": [
    {
     "data": {
      "text/plain": [
       "['abc', 5]"
      ]
     },
     "execution_count": 124,
     "metadata": {},
     "output_type": "execute_result"
    }
   ],
   "source": [
    "l3"
   ]
  },
  {
   "cell_type": "code",
   "execution_count": 126,
   "id": "617b719c-1759-46e3-b277-d7599e45805f",
   "metadata": {},
   "outputs": [],
   "source": [
    "l2.extend(l3)"
   ]
  },
  {
   "cell_type": "code",
   "execution_count": 128,
   "id": "525efebb-8cb6-471f-a5af-6b3d5ff00616",
   "metadata": {},
   "outputs": [
    {
     "data": {
      "text/plain": [
       "[53, 5316, 21, 5632, 632153, 61361, 'abc', 5]"
      ]
     },
     "execution_count": 128,
     "metadata": {},
     "output_type": "execute_result"
    }
   ],
   "source": [
    "l2"
   ]
  },
  {
   "cell_type": "code",
   "execution_count": 134,
   "id": "0f38a637-4ff9-4b17-ac42-2d5053aa3423",
   "metadata": {},
   "outputs": [
    {
     "data": {
      "text/plain": [
       "['abc', 5]"
      ]
     },
     "execution_count": 134,
     "metadata": {},
     "output_type": "execute_result"
    }
   ],
   "source": [
    "l3"
   ]
  },
  {
   "cell_type": "code",
   "execution_count": null,
   "id": "c638a917-c870-40bb-b694-f9ac37bc4848",
   "metadata": {},
   "outputs": [],
   "source": []
  },
  {
   "cell_type": "code",
   "execution_count": null,
   "id": "eff80984-e452-4c19-9184-bca3d30af773",
   "metadata": {},
   "outputs": [],
   "source": []
  },
  {
   "cell_type": "code",
   "execution_count": 138,
   "id": "b716495f-6fa6-444e-b84a-df88efa7f774",
   "metadata": {},
   "outputs": [],
   "source": [
    "# Insert"
   ]
  },
  {
   "cell_type": "code",
   "execution_count": 142,
   "id": "a1be84c5-5930-4b4a-85b3-9fa7f62e189e",
   "metadata": {},
   "outputs": [
    {
     "data": {
      "text/plain": [
       "[1, 2, 3, 4, 5, 6, 6]"
      ]
     },
     "execution_count": 142,
     "metadata": {},
     "output_type": "execute_result"
    }
   ],
   "source": [
    "l1"
   ]
  },
  {
   "cell_type": "code",
   "execution_count": 144,
   "id": "e9e8bbc2-0b11-4b32-8ad0-82a1175fde74",
   "metadata": {},
   "outputs": [],
   "source": [
    "l1.insert(0,0)"
   ]
  },
  {
   "cell_type": "code",
   "execution_count": 148,
   "id": "f28cbf2d-3c81-451e-8bf8-0761d241fef5",
   "metadata": {},
   "outputs": [
    {
     "data": {
      "text/plain": [
       "[0, 1, 2, 3, 4, 5, 6, 6]"
      ]
     },
     "execution_count": 148,
     "metadata": {},
     "output_type": "execute_result"
    }
   ],
   "source": [
    "l1"
   ]
  },
  {
   "cell_type": "code",
   "execution_count": 150,
   "id": "500fb96c-39ac-47f9-a388-d29661aaff70",
   "metadata": {},
   "outputs": [
    {
     "data": {
      "text/plain": [
       "[0, 1, 2, 3, 4, 100, 5, 6, 6]"
      ]
     },
     "execution_count": 150,
     "metadata": {},
     "output_type": "execute_result"
    }
   ],
   "source": [
    "l1.insert(5,100)\n",
    "l1"
   ]
  },
  {
   "cell_type": "code",
   "execution_count": 152,
   "id": "e5d80a2e-f9e0-4503-bee3-8bd373ea527d",
   "metadata": {},
   "outputs": [
    {
     "data": {
      "text/plain": [
       "[0, 1, 'mayank', 2, 3, 4, 100, 5, 6, 6]"
      ]
     },
     "execution_count": 152,
     "metadata": {},
     "output_type": "execute_result"
    }
   ],
   "source": [
    "l1.insert(2,\"mayank\")\n",
    "l1"
   ]
  },
  {
   "cell_type": "code",
   "execution_count": 154,
   "id": "7b25d112-3a9b-41f3-b64a-20b1664e6fc2",
   "metadata": {},
   "outputs": [
    {
     "data": {
      "text/plain": [
       "2"
      ]
     },
     "execution_count": 154,
     "metadata": {},
     "output_type": "execute_result"
    }
   ],
   "source": [
    "l1.index('mayank')"
   ]
  },
  {
   "cell_type": "code",
   "execution_count": 156,
   "id": "3641846e-d533-4304-b8d2-1bdc773a6e4a",
   "metadata": {},
   "outputs": [
    {
     "data": {
      "text/plain": [
       "8"
      ]
     },
     "execution_count": 156,
     "metadata": {},
     "output_type": "execute_result"
    }
   ],
   "source": [
    "l1.index(6)"
   ]
  },
  {
   "cell_type": "code",
   "execution_count": 160,
   "id": "dc350b04-4d29-4c70-9775-b6d415b08c62",
   "metadata": {},
   "outputs": [
    {
     "data": {
      "text/plain": [
       "1"
      ]
     },
     "execution_count": 160,
     "metadata": {},
     "output_type": "execute_result"
    }
   ],
   "source": [
    "l1.count(1)"
   ]
  },
  {
   "cell_type": "code",
   "execution_count": 164,
   "id": "2f42f11f-c40f-47bc-bbe0-cb7902abad13",
   "metadata": {},
   "outputs": [
    {
     "data": {
      "text/plain": [
       "2"
      ]
     },
     "execution_count": 164,
     "metadata": {},
     "output_type": "execute_result"
    }
   ],
   "source": [
    "l1.count(6)"
   ]
  },
  {
   "cell_type": "code",
   "execution_count": 166,
   "id": "f13e5ce0-8513-4240-9955-870291d1c7fe",
   "metadata": {},
   "outputs": [
    {
     "data": {
      "text/plain": [
       "0"
      ]
     },
     "execution_count": 166,
     "metadata": {},
     "output_type": "execute_result"
    }
   ],
   "source": [
    "l1.count(10)"
   ]
  },
  {
   "cell_type": "code",
   "execution_count": 171,
   "id": "274f2361-c630-44e4-9112-f74ff9c0e8bd",
   "metadata": {},
   "outputs": [
    {
     "data": {
      "text/plain": [
       "[0, 1, 'mayank', 2, 3, 4, 100, 5, 6, 6]"
      ]
     },
     "execution_count": 171,
     "metadata": {},
     "output_type": "execute_result"
    }
   ],
   "source": [
    "l1"
   ]
  },
  {
   "cell_type": "code",
   "execution_count": 173,
   "id": "505269f9-b280-49b4-a884-af83c331778e",
   "metadata": {},
   "outputs": [
    {
     "data": {
      "text/plain": [
       "[0, 'mayank', 2, 3, 4, 100, 5, 6, 6]"
      ]
     },
     "execution_count": 173,
     "metadata": {},
     "output_type": "execute_result"
    }
   ],
   "source": [
    "l1.remove(1)\n",
    "l1"
   ]
  },
  {
   "cell_type": "code",
   "execution_count": 175,
   "id": "7cbb7d55-581e-461a-84a8-3bc773538e52",
   "metadata": {},
   "outputs": [
    {
     "data": {
      "text/plain": [
       "[0, 'mayank', 2, 3, 4, 100, 5, 6]"
      ]
     },
     "execution_count": 175,
     "metadata": {},
     "output_type": "execute_result"
    }
   ],
   "source": [
    "l1.remove(6)\n",
    "l1"
   ]
  },
  {
   "cell_type": "code",
   "execution_count": 179,
   "id": "09173f9d-bb81-4379-9cfa-dc3854048e76",
   "metadata": {},
   "outputs": [],
   "source": [
    "if 10 in l1:\n",
    "    l1.remove(10)"
   ]
  },
  {
   "cell_type": "code",
   "execution_count": 182,
   "id": "7d318654-90f0-490c-9703-418d8c63f796",
   "metadata": {},
   "outputs": [
    {
     "data": {
      "text/plain": [
       "[0, 'mayank', 2, 3, 4, 100, 5, 6]"
      ]
     },
     "execution_count": 182,
     "metadata": {},
     "output_type": "execute_result"
    }
   ],
   "source": [
    "l1"
   ]
  },
  {
   "cell_type": "code",
   "execution_count": 184,
   "id": "3a8229cc-b9b0-4ceb-bd4d-fe63a30bd503",
   "metadata": {},
   "outputs": [
    {
     "data": {
      "text/plain": [
       "6"
      ]
     },
     "execution_count": 184,
     "metadata": {},
     "output_type": "execute_result"
    }
   ],
   "source": [
    "l1.pop()"
   ]
  },
  {
   "cell_type": "code",
   "execution_count": 186,
   "id": "2ee9344b-998c-42be-824b-8946efcbb96a",
   "metadata": {},
   "outputs": [],
   "source": [
    "l1.remove(4)"
   ]
  },
  {
   "cell_type": "code",
   "execution_count": 188,
   "id": "d17ff05c-f71a-4444-9231-f2397faaee9f",
   "metadata": {},
   "outputs": [
    {
     "ename": "IndexError",
     "evalue": "pop from empty list",
     "output_type": "error",
     "traceback": [
      "\u001b[0;31m---------------------------------------------------------------------------\u001b[0m",
      "\u001b[0;31mIndexError\u001b[0m                                Traceback (most recent call last)",
      "Cell \u001b[0;32mIn[188], line 2\u001b[0m\n\u001b[1;32m      1\u001b[0m l6 \u001b[38;5;241m=\u001b[39m []\n\u001b[0;32m----> 2\u001b[0m l6\u001b[38;5;241m.\u001b[39mpop()\n",
      "\u001b[0;31mIndexError\u001b[0m: pop from empty list"
     ]
    }
   ],
   "source": [
    "l6 = []\n",
    "l6.pop()"
   ]
  },
  {
   "cell_type": "code",
   "execution_count": 190,
   "id": "4882e5ed-6355-4de1-afc8-b20057560330",
   "metadata": {},
   "outputs": [],
   "source": [
    "if (len(l6)!= 0):\n",
    "    l6.pop()"
   ]
  },
  {
   "cell_type": "code",
   "execution_count": 193,
   "id": "b9a4bea8-2cfc-403b-a5e9-c9a76ce4dda6",
   "metadata": {},
   "outputs": [
    {
     "data": {
      "text/plain": [
       "['abc', 5]"
      ]
     },
     "execution_count": 193,
     "metadata": {},
     "output_type": "execute_result"
    }
   ],
   "source": [
    "l3"
   ]
  },
  {
   "cell_type": "code",
   "execution_count": 195,
   "id": "e27740e1-c15e-4c3e-bbc3-1a188ed61194",
   "metadata": {},
   "outputs": [],
   "source": [
    "l3.clear()"
   ]
  },
  {
   "cell_type": "code",
   "execution_count": 199,
   "id": "77e9916e-f99e-4a8f-a558-87c51f25a9e7",
   "metadata": {},
   "outputs": [
    {
     "data": {
      "text/plain": [
       "[]"
      ]
     },
     "execution_count": 199,
     "metadata": {},
     "output_type": "execute_result"
    }
   ],
   "source": [
    "l3"
   ]
  },
  {
   "cell_type": "code",
   "execution_count": 203,
   "id": "031d834b-609a-40f1-ab15-4c5be9b809c0",
   "metadata": {},
   "outputs": [
    {
     "data": {
      "text/plain": [
       "[53, 5316, 21, 5632, 632153, 61361, 'abc', 5]"
      ]
     },
     "execution_count": 203,
     "metadata": {},
     "output_type": "execute_result"
    }
   ],
   "source": [
    "l2"
   ]
  },
  {
   "cell_type": "code",
   "execution_count": 205,
   "id": "674eb111-ce98-455b-aa6a-67b95369e887",
   "metadata": {},
   "outputs": [],
   "source": [
    "l2.reverse()"
   ]
  },
  {
   "cell_type": "code",
   "execution_count": 207,
   "id": "536e4e36-fe32-4b15-ad54-40b8f6556020",
   "metadata": {},
   "outputs": [
    {
     "data": {
      "text/plain": [
       "[5, 'abc', 61361, 632153, 5632, 21, 5316, 53]"
      ]
     },
     "execution_count": 207,
     "metadata": {},
     "output_type": "execute_result"
    }
   ],
   "source": [
    "l2"
   ]
  },
  {
   "cell_type": "code",
   "execution_count": 211,
   "id": "5ac71ce9-6251-46d4-9de6-368fb7248fd8",
   "metadata": {},
   "outputs": [],
   "source": [
    "l2 = l2[::-1]"
   ]
  },
  {
   "cell_type": "code",
   "execution_count": 213,
   "id": "44bff5f0-c36d-44df-b366-30b2ee2a70f7",
   "metadata": {},
   "outputs": [
    {
     "data": {
      "text/plain": [
       "[53, 5316, 21, 5632, 632153, 61361, 'abc', 5]"
      ]
     },
     "execution_count": 213,
     "metadata": {},
     "output_type": "execute_result"
    }
   ],
   "source": [
    "l2"
   ]
  },
  {
   "cell_type": "code",
   "execution_count": 217,
   "id": "c1ead25f-cb91-4cee-9076-e5e3ae80573d",
   "metadata": {},
   "outputs": [
    {
     "ename": "TypeError",
     "evalue": "'<' not supported between instances of 'str' and 'int'",
     "output_type": "error",
     "traceback": [
      "\u001b[0;31m---------------------------------------------------------------------------\u001b[0m",
      "\u001b[0;31mTypeError\u001b[0m                                 Traceback (most recent call last)",
      "Cell \u001b[0;32mIn[217], line 1\u001b[0m\n\u001b[0;32m----> 1\u001b[0m l2\u001b[38;5;241m.\u001b[39msort()\n",
      "\u001b[0;31mTypeError\u001b[0m: '<' not supported between instances of 'str' and 'int'"
     ]
    }
   ],
   "source": [
    "l2.sort()"
   ]
  },
  {
   "cell_type": "code",
   "execution_count": 219,
   "id": "09b0f163-ce97-413f-b55c-961ec250ab61",
   "metadata": {},
   "outputs": [],
   "source": [
    "l2.remove('abc')"
   ]
  },
  {
   "cell_type": "code",
   "execution_count": 221,
   "id": "662730e6-97f4-40e8-a6f0-45b3045ecdbc",
   "metadata": {},
   "outputs": [
    {
     "data": {
      "text/plain": [
       "[21, 53, 5316, 5632, 61361, 632153, 5]"
      ]
     },
     "execution_count": 221,
     "metadata": {},
     "output_type": "execute_result"
    }
   ],
   "source": [
    "l2"
   ]
  },
  {
   "cell_type": "code",
   "execution_count": 223,
   "id": "c7b2afd5-c1da-447c-b921-c57387ae4e9a",
   "metadata": {},
   "outputs": [],
   "source": [
    "l2.sort()"
   ]
  },
  {
   "cell_type": "code",
   "execution_count": 229,
   "id": "59b14f4b-e279-4dcb-8939-8d3dbad782bd",
   "metadata": {},
   "outputs": [
    {
     "data": {
      "text/plain": [
       "[5, 21, 53, 5316, 5632, 61361, 632153]"
      ]
     },
     "execution_count": 229,
     "metadata": {},
     "output_type": "execute_result"
    }
   ],
   "source": [
    "l2"
   ]
  },
  {
   "cell_type": "code",
   "execution_count": 231,
   "id": "ff2bdba5-d880-4bc7-af80-08fffb1a7c80",
   "metadata": {},
   "outputs": [
    {
     "data": {
      "text/plain": [
       "[632153, 61361, 5632, 5316, 53, 21, 5]"
      ]
     },
     "execution_count": 231,
     "metadata": {},
     "output_type": "execute_result"
    }
   ],
   "source": [
    "l2.sort(reverse=True)\n",
    "l2"
   ]
  },
  {
   "cell_type": "code",
   "execution_count": 237,
   "id": "90a89c5c-db57-4f4b-bdc3-06662c573e4c",
   "metadata": {
    "scrolled": true
   },
   "outputs": [
    {
     "data": {
      "text/plain": [
       "[0, 'mayank', 2, 3, 100, 5]"
      ]
     },
     "execution_count": 237,
     "metadata": {},
     "output_type": "execute_result"
    }
   ],
   "source": [
    "l1\n"
   ]
  },
  {
   "cell_type": "markdown",
   "id": "d1924b29-851f-48f6-868a-cf59166250cf",
   "metadata": {},
   "source": [
    "# Copy Method In List"
   ]
  },
  {
   "cell_type": "code",
   "execution_count": 241,
   "id": "35370c6e-665e-428a-a7c3-fa20d0647157",
   "metadata": {},
   "outputs": [
    {
     "data": {
      "text/plain": [
       "[0, 'mayank', 2, 3, 100, 5]"
      ]
     },
     "execution_count": 241,
     "metadata": {},
     "output_type": "execute_result"
    }
   ],
   "source": [
    "l1"
   ]
  },
  {
   "cell_type": "code",
   "execution_count": 244,
   "id": "0000af24-a6a1-4f87-9fc4-7d899ebc3d1d",
   "metadata": {},
   "outputs": [],
   "source": [
    "l1Copy = l1"
   ]
  },
  {
   "cell_type": "code",
   "execution_count": 248,
   "id": "f056a838-0c9f-4ffa-81b2-c3906e020adb",
   "metadata": {},
   "outputs": [
    {
     "data": {
      "text/plain": [
       "[0, 'mayank', 2, 3, 100, 5]"
      ]
     },
     "execution_count": 248,
     "metadata": {},
     "output_type": "execute_result"
    }
   ],
   "source": [
    "l1"
   ]
  },
  {
   "cell_type": "code",
   "execution_count": 252,
   "id": "a4787f97-17f8-4bcb-a41b-2ebc6a49ee66",
   "metadata": {},
   "outputs": [
    {
     "data": {
      "text/plain": [
       "[0, 'mayank', 2, 3, 100, 5]"
      ]
     },
     "execution_count": 252,
     "metadata": {},
     "output_type": "execute_result"
    }
   ],
   "source": [
    "l1Copy"
   ]
  },
  {
   "cell_type": "code",
   "execution_count": 254,
   "id": "a5e57b09-58c4-4719-9e34-f0e45bf6f024",
   "metadata": {},
   "outputs": [
    {
     "data": {
      "text/plain": [
       "[123, 'mayank', 2, 3, 100, 5]"
      ]
     },
     "execution_count": 254,
     "metadata": {},
     "output_type": "execute_result"
    }
   ],
   "source": [
    "l1[0] = 123\n",
    "l1"
   ]
  },
  {
   "cell_type": "code",
   "execution_count": 259,
   "id": "a6fc2e7b-2c9f-4420-8fdd-0642baf16782",
   "metadata": {},
   "outputs": [
    {
     "data": {
      "text/plain": [
       "[123, 'mayank', 2, 3, 100, 5]"
      ]
     },
     "execution_count": 259,
     "metadata": {},
     "output_type": "execute_result"
    }
   ],
   "source": [
    "l1Copy"
   ]
  },
  {
   "cell_type": "code",
   "execution_count": 261,
   "id": "13d71dfc-56ee-49fb-b939-2ed0202ffd80",
   "metadata": {},
   "outputs": [],
   "source": [
    "l1Copy2 = l1.copy()"
   ]
  },
  {
   "cell_type": "code",
   "execution_count": 265,
   "id": "acf3e493-2a05-46e8-b4e2-340f5cd82fb7",
   "metadata": {},
   "outputs": [
    {
     "data": {
      "text/plain": [
       "[123, 'mayank', 2, 3, 100, 5]"
      ]
     },
     "execution_count": 265,
     "metadata": {},
     "output_type": "execute_result"
    }
   ],
   "source": [
    "l1Copy2"
   ]
  },
  {
   "cell_type": "code",
   "execution_count": 269,
   "id": "39f675fd-730a-4402-bc38-bfc627d6cf49",
   "metadata": {},
   "outputs": [
    {
     "data": {
      "text/plain": [
       "[123, 'mayank', 2, 3, 100, 5]"
      ]
     },
     "execution_count": 269,
     "metadata": {},
     "output_type": "execute_result"
    }
   ],
   "source": [
    "l1"
   ]
  },
  {
   "cell_type": "code",
   "execution_count": 271,
   "id": "a1b72ba5-e508-4eb7-917c-c2ad51101381",
   "metadata": {},
   "outputs": [
    {
     "data": {
      "text/plain": [
       "[456, 'mayank', 2, 3, 100, 5]"
      ]
     },
     "execution_count": 271,
     "metadata": {},
     "output_type": "execute_result"
    }
   ],
   "source": [
    "l1[0] = 456\n",
    "l1"
   ]
  },
  {
   "cell_type": "code",
   "execution_count": 273,
   "id": "ea8e94db-87de-4e38-9c6e-e6fb9f48a238",
   "metadata": {},
   "outputs": [
    {
     "data": {
      "text/plain": [
       "[123, 'mayank', 2, 3, 100, 5]"
      ]
     },
     "execution_count": 273,
     "metadata": {},
     "output_type": "execute_result"
    }
   ],
   "source": [
    "l1Copy2"
   ]
  }
 ],
 "metadata": {
  "kernelspec": {
   "display_name": "Python 3 (ipykernel)",
   "language": "python",
   "name": "python3"
  },
  "language_info": {
   "codemirror_mode": {
    "name": "ipython",
    "version": 3
   },
   "file_extension": ".py",
   "mimetype": "text/x-python",
   "name": "python",
   "nbconvert_exporter": "python",
   "pygments_lexer": "ipython3",
   "version": "3.11.5"
  }
 },
 "nbformat": 4,
 "nbformat_minor": 5
}
